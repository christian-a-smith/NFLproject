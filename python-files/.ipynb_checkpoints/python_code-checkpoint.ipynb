{
 "cells": [
  {
   "cell_type": "code",
   "execution_count": 1,
   "id": "6cedcd5d",
   "metadata": {},
   "outputs": [],
   "source": [
    "nfl_teams = [\n",
    "    'Cardinals', 'Falcons', 'Ravens', 'Bills', 'Panthers', 'Bears', 'Bengals',\n",
    "    'Browns', 'Cowboys', 'Broncos', 'Lions', 'Packers', 'Texans', 'Colts', 'Jaguars',\n",
    "    'Chiefs', 'Chargers', 'Rams', 'Dolphins', 'Vikings', 'Patriots', 'Saints', 'Giants',\n",
    "    'Jets', 'Raiders', 'Eagles', 'Steelers', '49ers', 'Seahawks', 'Buccaneers', 'Titans','Commanders'\n",
    "]\n"
   ]
  },
  {
   "cell_type": "code",
   "execution_count": null,
   "id": "a66d5401",
   "metadata": {},
   "outputs": [],
   "source": [
    "import pandas as pd"
   ]
  },
  {
   "cell_type": "code",
   "execution_count": 2,
   "id": "0f2de62b",
   "metadata": {},
   "outputs": [
    {
     "data": {
      "text/plain": [
       "32"
      ]
     },
     "execution_count": 2,
     "metadata": {},
     "output_type": "execute_result"
    }
   ],
   "source": [
    "len(nfl_teams)"
   ]
  },
  {
   "cell_type": "code",
   "execution_count": 3,
   "id": "0bde1ba2",
   "metadata": {},
   "outputs": [],
   "source": [
    "# import CSV files into one master dataframe, and delete rows with null scores"
   ]
  },
  {
   "cell_type": "code",
   "execution_count": null,
   "id": "9718e6d9",
   "metadata": {},
   "outputs": [],
   "source": []
  },
  {
   "cell_type": "code",
   "execution_count": null,
   "id": "5d8160a8",
   "metadata": {},
   "outputs": [],
   "source": [
    "#Create code to show the overs that hit for each team"
   ]
  },
  {
   "cell_type": "code",
   "execution_count": null,
   "id": "31128be0",
   "metadata": {},
   "outputs": [],
   "source": [
    "overs = {}"
   ]
  },
  {
   "cell_type": "code",
   "execution_count": null,
   "id": "cbc70bfa",
   "metadata": {},
   "outputs": [],
   "source": [
    "#create code to show the unders that hit for each team"
   ]
  },
  {
   "cell_type": "code",
   "execution_count": null,
   "id": "f2e53355",
   "metadata": {},
   "outputs": [],
   "source": [
    "unders = {}"
   ]
  },
  {
   "cell_type": "code",
   "execution_count": 4,
   "id": "9baa4219",
   "metadata": {},
   "outputs": [],
   "source": [
    "#create code to show the spreads that were successfully covered for each team"
   ]
  },
  {
   "cell_type": "code",
   "execution_count": null,
   "id": "d657f07f",
   "metadata": {},
   "outputs": [],
   "source": [
    "covers = {}"
   ]
  },
  {
   "cell_type": "code",
   "execution_count": 5,
   "id": "8d39a164",
   "metadata": {},
   "outputs": [],
   "source": [
    "#create code to show the spreads that were not successfully covered for each team"
   ]
  },
  {
   "cell_type": "code",
   "execution_count": null,
   "id": "ffa3a765",
   "metadata": {},
   "outputs": [],
   "source": [
    "non_covers = {}"
   ]
  },
  {
   "cell_type": "code",
   "execution_count": 6,
   "id": "9b3bd97f",
   "metadata": {},
   "outputs": [],
   "source": [
    "#create code to show the overall win/loss record for each team"
   ]
  },
  {
   "cell_type": "code",
   "execution_count": null,
   "id": "01a9dd13",
   "metadata": {},
   "outputs": [],
   "source": [
    "moneylines = {}"
   ]
  },
  {
   "cell_type": "code",
   "execution_count": null,
   "id": "276815dc",
   "metadata": {},
   "outputs": [],
   "source": []
  }
 ],
 "metadata": {
  "kernelspec": {
   "display_name": "Python 3 (ipykernel)",
   "language": "python",
   "name": "python3"
  },
  "language_info": {
   "codemirror_mode": {
    "name": "ipython",
    "version": 3
   },
   "file_extension": ".py",
   "mimetype": "text/x-python",
   "name": "python",
   "nbconvert_exporter": "python",
   "pygments_lexer": "ipython3",
   "version": "3.11.3"
  }
 },
 "nbformat": 4,
 "nbformat_minor": 5
}
