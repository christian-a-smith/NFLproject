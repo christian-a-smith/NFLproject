{
 "cells": [
  {
   "cell_type": "code",
   "execution_count": 1,
   "metadata": {},
   "outputs": [],
   "source": [
    "import pandas as pd\n",
    "\n",
    "# Function to convert CSV to JSON\n",
    "def convert_csv_to_json(csv_file_path, json_file_path):\n",
    "    # Read the CSV file\n",
    "    df = pd.read_csv(csv_file_path)\n",
    "    \n",
    "    # Convert DataFrame to JSON\n",
    "    df.to_json(json_file_path, orient='records', lines=True)\n",
    "\n",
    "# Paths to your CSV files\n",
    "csv_folder_path = \"C:\\\\Users\\\\sampl\\\\Desktop\\\\Data_Analytics\\\\Week16-Project3&DataEthics\\\\NFLproject\\\\starter-csv-files\\\\\"\n",
    "\n",
    "# Converting each CSV file\n",
    "convert_csv_to_json(csv_folder_path + \"Moneylines.csv\", csv_folder_path + \"Moneylines.json\")\n",
    "convert_csv_to_json(csv_folder_path + \"Over.Unders.csv\", csv_folder_path + \"Over.Unders.json\")\n",
    "convert_csv_to_json(csv_folder_path + \"season-stats.csv\", csv_folder_path + \"season-stats.json\")\n",
    "convert_csv_to_json(csv_folder_path + \"Spreads.csv\", csv_folder_path + \"Spreads.json\")\n"
   ]
  },
  {
   "cell_type": "code",
   "execution_count": null,
   "metadata": {},
   "outputs": [],
   "source": []
  }
 ],
 "metadata": {
  "kernelspec": {
   "display_name": "Python 3 (ipykernel)",
   "language": "python",
   "name": "python3"
  },
  "language_info": {
   "codemirror_mode": {
    "name": "ipython",
    "version": 3
   },
   "file_extension": ".py",
   "mimetype": "text/x-python",
   "name": "python",
   "nbconvert_exporter": "python",
   "pygments_lexer": "ipython3",
   "version": "3.11.4"
  }
 },
 "nbformat": 4,
 "nbformat_minor": 2
}
